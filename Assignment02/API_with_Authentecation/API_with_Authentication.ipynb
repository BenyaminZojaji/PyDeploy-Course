{
  "cells": [
    {
      "cell_type": "code",
      "execution_count": 1,
      "metadata": {
        "id": "XbpzB4Y4mSFE"
      },
      "outputs": [],
      "source": [
        "import json\n",
        "import requests\n",
        "import os\n",
        "import dotenv"
      ]
    },
    {
      "cell_type": "code",
      "execution_count": 2,
      "metadata": {
        "id": "Td4-kqN3mfL9"
      },
      "outputs": [],
      "source": [
        "dotenv = dotenv.load_dotenv()"
      ]
    },
    {
      "cell_type": "markdown",
      "metadata": {
        "id": "CifQ-AO5miyK"
      },
      "source": [
        "### 1. The Lord Of The Rings"
      ]
    },
    {
      "cell_type": "code",
      "execution_count": 4,
      "metadata": {
        "id": "NaQIonbNmft-"
      },
      "outputs": [
        {
          "data": {
            "text/plain": [
              "200"
            ]
          },
          "execution_count": 4,
          "metadata": {},
          "output_type": "execute_result"
        }
      ],
      "source": [
        "url = \"https://the-one-api.dev/v2/movie\"\n",
        "\n",
        "One_API_KEY = os.getenv(\"TLOR_API_KEY\")\n",
        "payload = {}\n",
        "headers = {\n",
        "  'Authorization': One_API_KEY\n",
        "}\n",
        "\n",
        "response = requests.request(\"GET\", url, headers=headers, data=payload)\n",
        "response.status_code"
      ]
    },
    {
      "cell_type": "code",
      "execution_count": null,
      "metadata": {
        "id": "8CrJ4M9ymymd"
      },
      "outputs": [],
      "source": [
        "response.json()"
      ]
    },
    {
      "cell_type": "markdown",
      "metadata": {
        "id": "x6cfagPrmzp8"
      },
      "source": [
        "### 2. IconFinder"
      ]
    },
    {
      "cell_type": "code",
      "execution_count": 3,
      "metadata": {
        "id": "Nh6b8So-mzVs"
      },
      "outputs": [
        {
          "data": {
            "text/plain": [
              "200"
            ]
          },
          "execution_count": 3,
          "metadata": {},
          "output_type": "execute_result"
        }
      ],
      "source": [
        "url = \"https://api.iconfinder.com/v4/icons/search?query=arrow&count=10\"\n",
        "\n",
        "IconFinder_API_KEY = os.getenv(\"IconFinder_API_KEY\")\n",
        "headers = {\n",
        "    \"accept\": \"application/json\",\n",
        "    \"Authorization\": IconFinder_API_KEY\n",
        "}\n",
        "\n",
        "response = requests.get(url, headers=headers)\n",
        "response.status_code"
      ]
    },
    {
      "cell_type": "code",
      "execution_count": null,
      "metadata": {
        "id": "zsRTPxWSm716"
      },
      "outputs": [],
      "source": [
        "response.json()"
      ]
    },
    {
      "cell_type": "markdown",
      "metadata": {
        "id": "YLSOcqnam_Et"
      },
      "source": [
        "### 3. Illusion Diffusion"
      ]
    },
    {
      "cell_type": "code",
      "execution_count": 4,
      "metadata": {
        "id": "GvJKyBSCm9G5"
      },
      "outputs": [
        {
          "data": {
            "text/plain": [
              "200"
            ]
          },
          "execution_count": 4,
          "metadata": {},
          "output_type": "execute_result"
        }
      ],
      "source": [
        "url = \"https://54285744-illusion-diffusion.gateway.alpha.fal.ai/\"\n",
        "\n",
        "payload = {\n",
        "    \"image_url\": \"https://github.com/BenyaminZojaji/PyDeploy-Course/blob/main/Assignment02/assets/HOLY_pattern.png?raw=true\",\n",
        "    \"prompt\": \"(masterpiece:1.4), (best quality), (detailed), Renaissance-style portrait of a prophet astronaut in space, detailed starry background, reflective helmet.\",\n",
        "    \"negative_prompt\": \"(worst quality, poor details:1.4), lowres, (artist name, signature, watermark:1.4), bad-artist-anime, bad_prompt_version2, bad-hands-5, ng_deepnegative_v1_75t\"\n",
        "}\n",
        "Fal_API_KEY = os.getenv(\"Fal_API_KEY\")\n",
        "headers = {\n",
        "    \"Authorization\": Fal_API_KEY,\n",
        "    \"Content-Type\": \"application/json\"\n",
        "}\n",
        "response = requests.post(url, json=payload, headers=headers)\n",
        "response.status_code"
      ]
    },
    {
      "cell_type": "code",
      "execution_count": null,
      "metadata": {
        "id": "UN3Tt2kfnQjL"
      },
      "outputs": [],
      "source": [
        "json.loads(response.text)"
      ]
    },
    {
      "cell_type": "markdown",
      "metadata": {
        "id": "5ETGivt4nPLb"
      },
      "source": [
        "### 4. D-ID"
      ]
    },
    {
      "cell_type": "code",
      "execution_count": 13,
      "metadata": {
        "id": "-25GDg2XnRSK"
      },
      "outputs": [
        {
          "data": {
            "text/plain": [
              "201"
            ]
          },
          "execution_count": 13,
          "metadata": {},
          "output_type": "execute_result"
        }
      ],
      "source": [
        "url = \"https://api.d-id.com/clips\"\n",
        "payload = {\n",
        "    \"script\": {\n",
        "        \"type\": \"text\",\n",
        "        \"provider\": {\n",
        "            \"type\": \"microsoft\",\n",
        "            \"voice_id\": \"en-US-JennyNeural\"\n",
        "        },\n",
        "        \"ssml\": \"false\",\n",
        "        \"input\": \"Hello there. My name in Anahita. Let/'s play a game I sing you a song and you tell me where you hear that or Which poet wrote it? 1 2 3 so much depends upon     a red wheel barrow       glazed with rain water       beside the white chickens.\"\n",
        "    },\n",
        "    \"config\": { \"result_format\": \"mp4\" },\n",
        "    \"presenter_config\": { \"crop\": { \"type\": \"wide\" } },\n",
        "    \"background\": { \"color\": \"false\" },\n",
        "    \"presenter_id\": \"anita-6_uTzyZtNR\"\n",
        "}\n",
        "D_ID_API_KEY = os.getenv(\"D_ID_API_KEY\")\n",
        "headers = {\n",
        "    \"accept\": \"application/json\",\n",
        "    \"content-type\": \"application/json\",\n",
        "    \"authorization\": D_ID_API_KEY\n",
        "}\n",
        "response = requests.post(url, json=payload, headers=headers)\n",
        "response.status_code"
      ]
    },
    {
      "cell_type": "code",
      "execution_count": 14,
      "metadata": {
        "id": "_WlPf6UAnb0L"
      },
      "outputs": [
        {
          "data": {
            "text/plain": [
              "{'id': 'clp_gkBVaKSHHfloqL8hfofhq',\n",
              " 'created_at': '2024-03-15T09:38:43.727Z',\n",
              " 'object': 'clip',\n",
              " 'status': 'created'}"
            ]
          },
          "execution_count": 14,
          "metadata": {},
          "output_type": "execute_result"
        }
      ],
      "source": [
        "response.json()"
      ]
    },
    {
      "cell_type": "code",
      "execution_count": 16,
      "metadata": {
        "id": "eGxZnTVendah"
      },
      "outputs": [
        {
          "data": {
            "text/plain": [
              "200"
            ]
          },
          "execution_count": 16,
          "metadata": {},
          "output_type": "execute_result"
        }
      ],
      "source": [
        "url = f\"https://api.d-id.com/clips/{response.json()['id']}\"\n",
        "\n",
        "headers = {\n",
        "    \"accept\": \"application/json\",\n",
        "    \"authorization\": D_ID_API_KEY\n",
        "}\n",
        "\n",
        "response_video = requests.get(url, headers=headers)\n",
        "response_video.status_code"
      ]
    },
    {
      "cell_type": "code",
      "execution_count": null,
      "metadata": {
        "id": "iosIKDXgneBT"
      },
      "outputs": [],
      "source": [
        "response_video.json()"
      ]
    },
    {
      "cell_type": "markdown",
      "metadata": {
        "id": "JnPYfcGmnk09"
      },
      "source": [
        "### 5. PlantNet"
      ]
    },
    {
      "cell_type": "code",
      "execution_count": 8,
      "metadata": {
        "id": "zyxFj3WtnhX1"
      },
      "outputs": [
        {
          "data": {
            "text/plain": [
              "200"
            ]
          },
          "execution_count": 8,
          "metadata": {},
          "output_type": "execute_result"
        }
      ],
      "source": [
        "url = \"https://my-api.plantnet.org/v2/identify/all\"\n",
        "\n",
        "PlantNet_API_KEY = os.getenv(\"PlantNet_API_KEY\")\n",
        "payload = {\n",
        "    \"api-key\": PlantNet_API_KEY\n",
        "}\n",
        "\n",
        "headers = {\n",
        "}\n",
        "\n",
        "files = {\n",
        "    'images': open('assets\\\\images.jpg','rb')\n",
        "}\n",
        "\n",
        "response = requests.post(url, params=payload, headers=headers, files=files)\n",
        "response.status_code"
      ]
    },
    {
      "cell_type": "code",
      "execution_count": null,
      "metadata": {
        "id": "bJkgisOTnpET"
      },
      "outputs": [],
      "source": [
        "response.json()"
      ]
    }
  ],
  "metadata": {
    "colab": {
      "provenance": []
    },
    "kernelspec": {
      "display_name": "Python 3",
      "name": "python3"
    },
    "language_info": {
      "codemirror_mode": {
        "name": "ipython",
        "version": 3
      },
      "file_extension": ".py",
      "mimetype": "text/x-python",
      "name": "python",
      "nbconvert_exporter": "python",
      "pygments_lexer": "ipython3",
      "version": "3.9.10"
    }
  },
  "nbformat": 4,
  "nbformat_minor": 0
}
